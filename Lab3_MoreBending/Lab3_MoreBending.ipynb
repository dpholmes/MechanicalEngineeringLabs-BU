{
 "cells": [
  {
   "cell_type": "markdown",
   "metadata": {},
   "source": [
    "# Lab 3: More on Beam Bending\n",
    "\n",
    "## Introduction\n",
    "\n",
    "We have been studying the shape of a bent beam through the lens of [Euler-Bernoulli](https://en.wikipedia.org/wiki/Euler–Bernoulli_beam_theory) beam theory, which says that if the slope of a beam is small, its shape -- specifically, the vertical deflection v(x) -- can be described with the equation of an elastic curve:\n",
    "\n",
    "\\begin{equation}\n",
    "B \\frac{d^4v}{dx^4}=q(x),\n",
    "\\tag{1}\n",
    "\\end{equation}\n",
    "where $B = EI$ is the bending or flexural rigidity, $E$ is Young's elastic modulus, $I$ is the [second moment of area](https://en.wikipedia.org/wiki/Second_moment_of_area), and $q(x)$ is the distributed load acting transverse or orthogonal to the beam's neutral axis - it has units of force per unit length. I have assumed that $E$ and $I$ do not change along the $x$ axis of the beam. \n",
    "\n",
    "As we've seen, the equation (1) conveniently takes different forms depending on the order of the differential equation for v(x): \n",
    "\n",
    "\\begin{equation}\n",
    "B \\frac{d^3v}{dx^3}=V(x),\n",
    "\\tag{2}\n",
    "\\end{equation}\n",
    "\n",
    "for the shear force V(x), or \n",
    "\n",
    "\\begin{equation}\n",
    "B \\frac{d^2v}{dx^2}=M(x),\n",
    "\\tag{3}\n",
    "\\end{equation}\n",
    "\n",
    "for the moment M(x). The linear ODEs in Eqs. (1)-(3) are simple to solve analytically by integration.\n",
    "\n",
    "In the previous lab we focused primarily on the deflection of a cantilevered beam under under various concentrated transverse loads. Euler-Bernoulli beam theory also describes forces and moments, and can therefore be used to study stresses. \n",
    "\n",
    "Transverse loading causes (1) bending moments, which lead to normal stresses which, in turn, cause strains through the beam's cross-section, and (2) shear forces, which lead to shear stresses, which cause [shear strains](https://en.wikipedia.org/wiki/Shearing_(physics)). Shear strain is deformation in which parallel surfaces (think layers of a beam or pages of a book) slide past one another. \n",
    "\n",
    "In most beams -- more specifically, those that are not too short or thick -- shear stresses are negligible compared to normal stresses. As such, shear effects are often neglected in analysis. Euler–Bernoulli beam theory does not account for the effects of transverse shear strain. \n",
    "\n",
    "In this lab, we'll perform simple experiments to help visualize shear strains, and to try to grasp what's going on internally in a beam that resists these strains. We will also return to Euler-Bernoulli beam equation (the elastic curve) to see what it means to neglect shear in theoretical analysis."
   ]
  },
  {
   "cell_type": "markdown",
   "metadata": {},
   "source": [
    "## Prelab Questions:\n",
    "\n",
    "Read, but do not yet complete, the  [Experiments](#exp) section. Then discuss within your group and answer the following questions:\n",
    "\n",
    "<b>(1.) Which do you think will produce more deflection: the beam whose layers are bound (Part 1) or the one with the unbound edge at the free end (Part 2)? Or, will the deflection be the same? Why? </b>\n",
    "\n",
    "...enter your answer here...\n",
    "\n",
    "<b>(2.) Describe (qualitatively, in terms of angles, etc.) what you think the end of the beam will look like in each case. </b>\n",
    "\n",
    "...enter your answer here...\n",
    "\n",
    "<b>(3.) In these experiments, self-weight will act as a distributed load. (a.) What would the magnitude of the load be for a cantilever \"beam\" which is just a single sheet of paper? (b.) If it were two sheets completely glued together? (c.) N sheets (essentially your case for Part 1)? </b>\n",
    "\n",
    "...enter your answer here...\n",
    "\n",
    "<b>(4.) Now imagine a cantilever \"beam\" comprised of two sheets of paper that are not glued together. If you used the value you gave for the distributed load of one sheet in (3a.) to predict the beam's deflection, how do you think the prediction would compare to the experiment? What about if you used the value you gave for (3b.)? </b>\n",
    "\n",
    "...enter your answer here...\n",
    "\n",
    "<b>(5.) How would you calculate the second moment of area, I, for the bound beam in Part 1? Is it the same for the one with \"loose\" layers in Part 2? Explain your answer.</b>\n",
    "\n",
    "...enter your answer here...\n",
    "\n",
    "<b>(6.) Do you think Euler-Bernoulli beam theory will accurately predict the deflection $w$ of the beam in Part 1? Why or why not? In Part 2? Why or why not?</b>\n",
    "\n",
    "...enter your answer here..."
   ]
  },
  {
   "cell_type": "markdown",
   "metadata": {},
   "source": [
    "## Experiments <a id='exp'></a>\n",
    "\n",
    "1. Find a paperback book, magazine, notebook, other floppy book, or a stack of papers that you can staple or otherwise bind one edge. Also find something to clamp it with, e.g. a stack of other, heavier books. \n",
    "\n",
    " <u> Part 1: Bound end </u>\n",
    "\n",
    "2. Cantilever the magazine \"beam\" -- it will be very wide -- by clamping the <b>free</b> edge (the one opposite the binding.) Let the bound end hang freely.\n",
    "\n",
    "3. Adjust L, the distance between your clamp and the bound edge, such that the slopes are not too large, then measure and record L.\n",
    "\n",
    "4. You need a reference object in the frame. Measure it.\n",
    "\n",
    "5. Take a photo, ensuring that the camera is horizontal in space, and level with and perpendicular to the subject.\n",
    "\n",
    "6. Take a second photo, this time closer up. Center and focus on the <b>end</b> of the beam. Move the reference if necessary such that it's still in the frame. Ensure that the camera is perfectly horizontal and perpendicular to the beam.\n",
    "\n",
    " <u> Part 2: Free end </u>\n",
    "\n",
    "7. Cantilever the beam by clamping the <b>bound</b> edge. Let the edge opposite the binding hang freely, and adjust so that $L$ is the same as in Part 1.\n",
    "\n",
    "8. Take a photo, ensuring that the camera is horizontal in space, and level with and perpendicular to the subject.\n",
    "\n",
    "9. Take another photo, this time closer up. Center and focus on the <b>end</b> of the beam. Move the reference if necessary such that it's still in the frame. Ensure that the camera is perfectly horizontal and perpendicular to the beam.\n",
    "\n",
    "10. Add images (descriptively named) to your shared Google drive.\n",
    "\n",
    "<a href=\"https://ibb.co/ZKxR9YG\"><img src=\"https://i.ibb.co/5vLXZnG/Example-bound-noangle.jpg\" alt=\"Example-bound-noangle\" border=\"0\"></a>\n"
   ]
  },
  {
   "cell_type": "code",
   "execution_count": null,
   "metadata": {},
   "outputs": [],
   "source": [
    "install_mpld3 = !pip install \"git+https://github.com/mpld3/mpld3\" \n",
    "import math         # sine, cosine, sqrt, etc.\n",
    "import numpy as np  # so we can work with matrices\n",
    "import pandas as pd               # for data/tables\n",
    "\n",
    "import matplotlib\n",
    "import matplotlib.pyplot as plt # plotting\n",
    "\n",
    "from skimage import io            # working with images\n",
    "from IPython.display import Image,display # images in colab\n",
    "import mpld3                      # interacting with images\n",
    "from mpld3 import plugins         # getting pixel data from images"
   ]
  },
  {
   "cell_type": "code",
   "execution_count": null,
   "metadata": {},
   "outputs": [],
   "source": [
    "### run to define a function we can use later:\n",
    "def get_angle(x1,y1,x2,y2,x3,y3):\n",
    "    \"\"\" Accepts 3 points where point 2 is the intersection. \n",
    "    Calculates angle 1-2-3 using dot product, returns angle in radians. \n",
    "    \"\"\"\n",
    "    p1 = np.array([x1,y1])\n",
    "    p2 = np.array([x2,y2])\n",
    "    p3 = np.array([x3,y3])\n",
    "    vec1 = p1-p2\n",
    "    vec2 = p3-p2\n",
    "    mag1 = np.sqrt(np.dot(vec1,vec1))\n",
    "    mag2 = np.sqrt(np.dot(vec2,vec2))\n",
    "    cos_angle = np.dot(vec1,vec2)/(mag1*mag2)\n",
    "    angle = np.arccos(cos_angle)\n",
    "    return(angle)"
   ]
  },
  {
   "cell_type": "markdown",
   "metadata": {},
   "source": [
    "## Euler-Bernoulli Beam Theory (The Elastic Curve): Cantilever with Uniformly Distributed Load\n",
    "\n",
    "<a href=\"https://ibb.co/pzJptd0\"><img src=\"https://i.ibb.co/nczSHjg/loading-schematic.jpg\" alt=\"loading-schematic\" border=\"0\"></a>\n",
    "\n",
    "We know that integrating the beam equation (1), (2), or (3) and applying appropriate boundary conditions gives the vertical deflection $v$ along the length (as a function of x).\n",
    "\n",
    "The \"beams\" in your experiments are cantilevers which deform under self-weight, where the self-weight acts as a uniformly distributed load. \n",
    "\n",
    "[Solving](https://www.youtube.com/watch?v=DQxWDiAlIIs) the beam equation for these loading conditions gives the following (you can also refer to Appendix A): \n",
    "\n",
    "$$ v(x) = \\frac{-q x^2}{24 B}(x^2-4Lx+6L^2) \\tag{4} $$\n",
    "\n",
    "The maximum deflection occurs at x=L. Plugging this in to Eq. (4) shows us that this deflection is given by:\n",
    "\n",
    "$$ v(x=L) = \\frac{-q L^4}{8 B} \\tag{5} $$\n",
    "\n",
    "We'd like to assess how this prediction compares to your experiments. We know we can use image processing to find the deflection, so we just need the load per unit length q, the bending rigidity $B=EI$.\n",
    "\n",
    "#### Distributed load: self-weight \n",
    "How can we find the magnitude of the distributed load q (without requiring a scale)? Start with the density $\\rho$ of the material (paper). Note that:\n",
    "\n",
    "$$\\rho g = \\frac{m g}{V} \\tag{6}$$\n",
    " \n",
    "for volume $V=Lwh$ with length L, width w, thickness h, and gravitational constant g. This has units of force over length cubed. \n",
    "We need force over length, so we multiply both sides of Eq. (6) by wh to get: \n",
    "\n",
    "$$q = \\rho g w h \\tag{7}$$\n",
    "\n",
    "In the code cell below, input the density, width and thickness values, then use the variables to calculate q for the book."
   ]
  },
  {
   "cell_type": "code",
   "execution_count": null,
   "metadata": {},
   "outputs": [],
   "source": [
    "rho =  ### material density: kg/m^3\n",
    "g = -9.81 # gravitational constant: m/s^2\n",
    "w =  ### width: m\n",
    "L =  # m### length: m\n",
    "h_book =  ### thickness of the book: m\n",
    "\n",
    "q_book = rho*g*w*h_book # calculate distributed load from self-weight of the book: kg/m"
   ]
  },
  {
   "cell_type": "markdown",
   "metadata": {},
   "source": [
    "#### Bending rigidity\n",
    "\n",
    "The bending rigidity of a book is nontrivial, and is actually the subject of active research -- see this short [Twitter thread](https://twitter.com/PoinclouxS/status/1234775757043441666) on the topic! Update: see also the December 2020 preprint [here](https://arxiv.org/pdf/2012.01335.pdf).\n",
    "\n",
    "We will *not* attempt to calculate the true value of B here. However, we can use the theoretical value for the end deflection in Eq. (5) to get a measurement for an <i> effective </i> bending stiffness $B_{effective}$.\n",
    "\n",
    "Solving Eq. (5) for B gives:\n",
    "\n",
    "$$ B_{effective} = \\frac{-q L^4}{8 \\ v(L)} \\tag{8}$$ \n",
    "\n",
    "Let's use the <b> bound </b> book (Part 2 in the [Experiments](#exp) section) for this calculation. \n",
    "\n",
    "1. Load the image of the full view of the bound book. \n",
    "2. Measure an appropriate reference distance -- this can be an object you placed, or a geometric property like the thickness of the book. If your object is tilted, you may want to calculate the distance, $d = \\sqrt{(x_2-x_1)^2+(y_2-y_1)^2}$.\n",
    "3. Measure the vertical deflection v(L) for the <b> midline </b> of the beam."
   ]
  },
  {
   "cell_type": "code",
   "execution_count": null,
   "metadata": {
    "scrolled": true
   },
   "outputs": [],
   "source": [
    "path_bound = str(input(\"Paste or type your file path for the bound beam: \"))\n",
    "im_bound = io.imread(path_bound)\n",
    "\n",
    "fig, ax = plt.subplots(figsize=(10,5))\n",
    "io.imshow(im_bound)\n",
    "plugins.connect(fig, plugins.MousePosition(fontsize=14))\n",
    "mpld3.display()"
   ]
  },
  {
   "cell_type": "code",
   "execution_count": 2,
   "metadata": {},
   "outputs": [],
   "source": [
    "ref_mm_bound =  ### size of reference object in mm\n",
    "ref_pix_bound =  ### size of reference object in pixels\n",
    "v_pix = ### vertical end deflection in pixels\n",
    "\n",
    "pix_m_bound = ref_pix_bound*1000/ref_mm_bound\n",
    "v_L = v_pix/pix_m_bound"
   ]
  },
  {
   "cell_type": "markdown",
   "metadata": {},
   "source": [
    "Now we'll use this measurement and your previously defined variables for q, L, and I to calculate E using Eq. (8):"
   ]
  },
  {
   "cell_type": "code",
   "execution_count": null,
   "metadata": {},
   "outputs": [],
   "source": [
    "B = -q_book*L**4/(8*v_L) # effective stiffness from Eq. (8): N*m^2\n",
    "print('Effective B = '+str(round(B,5)) +' N*m^2$')"
   ]
  },
  {
   "cell_type": "markdown",
   "metadata": {},
   "source": [
    "## Deflection of the Entire Beam\n",
    "\n",
    "Let’s assume $B_{effective}$ for the bound-end beam is a good approximation for that of the unbound beam.\n",
    "\n",
    "Then we have all of the values we need to use Eq. (4) to predict the deflection over the length of the book for both cases."
   ]
  },
  {
   "cell_type": "code",
   "execution_count": null,
   "metadata": {},
   "outputs": [],
   "source": [
    "x = np.arange(0,L,L/30) # create array of 30 points to cover the length of L\n",
    "v_book = -(q_book*x**2)/(24*B)*(x**2-4*L*x+6*L**2) # theoretical deflection over x from Eq. (4)"
   ]
  },
  {
   "cell_type": "markdown",
   "metadata": {},
   "source": [
    "We can overlay this curve on our images after we grab the \"zero\" coordinates. \n",
    "\n",
    "Scroll back up to the image of the bound beam. Input the pixel coordinates corresponding to x=y=0, that is, the position of the midline of the beam at the clamp."
   ]
  },
  {
   "cell_type": "code",
   "execution_count": null,
   "metadata": {},
   "outputs": [],
   "source": [
    "x0_bound =  ### x value in pixels of the \"zero\" position\n",
    "y0_bound =  ### y value in pixels of the \"zero\" position\n",
    "\n",
    "# convert back to pixels so we can overlay the theoretical curve over the experimental photo.\n",
    "x_pix_bound = x*pix_m_bound + x0_bound # shift right by an amount x0 so the curve is zeroed\n",
    "v_book_pix_bound = v_book*pix_m_bound + y0_bound # shift down by an amount y0 so the curve is zeroed"
   ]
  },
  {
   "cell_type": "markdown",
   "metadata": {},
   "source": [
    "Now load the image of the unbound beam get the reference size and the zero coordinates for that image."
   ]
  },
  {
   "cell_type": "code",
   "execution_count": null,
   "metadata": {},
   "outputs": [],
   "source": [
    "fig, ax = plt.subplots(figsize=(10,5))\n",
    "io.imshow(im_unbound)\n",
    "plugins.connect(fig, plugins.MousePosition(fontsize=14))\n",
    "mpld3.display()"
   ]
  },
  {
   "cell_type": "code",
   "execution_count": null,
   "metadata": {},
   "outputs": [],
   "source": [
    "x0_unbound =  ### x value in pixels of the \"zero\" position\n",
    "y0_unbound =  ### y value in pixels of the \"zero\" position\n",
    "\n",
    "ref_mm_unbound =  ### size of reference object in mm\n",
    "ref_pix_unbound = ### size of reference object in pixels\n",
    "pix_m_unbound = ref_pix_unbound*1000/ref_mm_unbound # conversion factor \n",
    "\n",
    "# convert back to pixels so we can overlay the theoretical curve over the experimental photo.\n",
    "x_pix_unbound = x*pix_m_unbound + x0_unbound # shift right by an amount x0 so the curve is zeroed\n",
    "v_book_pix_unbound = v_book*pix_m_unbound + y0_unbound # shift down by an amount y0 so the curve is zeroed"
   ]
  },
  {
   "cell_type": "markdown",
   "metadata": {},
   "source": [
    "Now let's see how the theoretical curve compares to the experiments."
   ]
  },
  {
   "cell_type": "code",
   "execution_count": null,
   "metadata": {},
   "outputs": [],
   "source": [
    "fig, ax = plt.subplots(figsize=(12,7))\n",
    "ax.imshow(im_bound)\n",
    "plt.plot(x_pix_bound,v_book_pix_bound,'r--',linewidth=3)\n",
    "plt.show()"
   ]
  },
  {
   "cell_type": "code",
   "execution_count": null,
   "metadata": {},
   "outputs": [],
   "source": [
    "fig, ax = plt.subplots(figsize=(12,7))\n",
    "ax.imshow(im_unbound)\n",
    "plt.plot(x_pix_unbound,v_book_pix_unbound,'r--',linewidth=3)\n",
    "plt.show()"
   ]
  },
  {
   "cell_type": "markdown",
   "metadata": {},
   "source": [
    "## Discussion of Deflection Results "
   ]
  },
  {
   "cell_type": "markdown",
   "metadata": {},
   "source": [
    "<b>(1.) Which beam deflected more: the beam whose layers are bound (Part 1) or the one with the unbound edge at the free end (Part 2)? Why? Was the difference predictible from Euler-Bernoulli beam theory? </b>\n",
    "\n",
    "...enter your answer here...\n",
    "\n",
    "<b>(2.) Did Euler-Bernoulli beam theory accurately predict, overpredict, or underpredict the deflection $v$ of each beam? Why? Which prediction was closer, and why do you think that is?</b>\n",
    "\n",
    "...enter your answer here...\n",
    "\n",
    "<b>(3.) Say you wanted to attempt to predict the maximum deflection of only the bottom page of paper using Euler-Bernoulli beam theory. \n",
    "    \n",
    "(a.) Outline how you would do this, e.g., which are the relevant quantities and equations? (You don't need to solve, but you can if you want to!) \n",
    "\n",
    "(b.) Do you think you'd be more successful in predicting the deflection of the bottom sheet for the bound or unbound case? Why?</b>\n",
    "\n",
    "...enter your answer here..."
   ]
  },
  {
   "cell_type": "markdown",
   "metadata": {},
   "source": [
    "## Visualizing shear"
   ]
  },
  {
   "cell_type": "markdown",
   "metadata": {},
   "source": [
    "<a href=\"https://ibb.co/sJ7T9Wg\"><img src=\"https://i.ibb.co/n8pXMPw/shear-schematic.png\" alt=\"shear-schematic\" border=\"0\"></a>\n",
    "\n",
    "Remember that shear strain is defined as the change in an initally 90 degree ($\\pi/2$ rad) angle, that is, \n",
    "\n",
    "$$\\gamma = \\pi/2-\\theta'\n",
    "\\tag{9}$$\n",
    "\n",
    "where $\\gamma$ represents the shear strain. \n",
    "\n",
    "Consider the end of the book, at x=L. Before any bending occurs, the angle $\\theta$ between the midline (oriented along the x-axis initially) and the edge of the book (oriented along y initially) is 90 degrees.\n",
    "\n",
    "Let's measure $\\theta'$, the deformed angle, in each case, to see how much shear strain occurred due to bending. Your close-up images where you focused on the end of the beam will probably make this easier. \n",
    "\n",
    "We would like to know the orientation of the endline with respect to the <i> midline </i> of the beam, i.e. the angle made by the two white dashed lines in the image below. To calculate an angle we need 3 points (the x's in the image, for example). \n",
    "\n",
    "You can annotate your own image if you like, or just imagine similar guiding lines to select your points. Hover and record the (x,y) pixel values for: \n",
    "\n",
    "1. A point along the midline (midline_x,midline_y)\n",
    "2. The intersection point between the midline and the endline (intersect_x,intersect_y)\n",
    "3. A point along the endline (endline_x,endline_y)\n",
    "\n",
    "<a href=\"https://ibb.co/tcHJ0Tb\"><img src=\"https://i.ibb.co/NpFy0dL/angle-points.jpg\" alt=\"angle-points\" border=\"0\"></a>\n",
    "\n",
    "Load the zoomed-in bound book image (Part 1) first:"
   ]
  },
  {
   "cell_type": "code",
   "execution_count": null,
   "metadata": {},
   "outputs": [],
   "source": [
    "path_bound_zoom = str(input(\"Paste or type your file path for the bound beam (close-up end view): \"))\n",
    "im_bound_zoom = io.imread(path_bound_zoom)\n",
    "\n",
    "fig, ax = plt.subplots(figsize=(10,5))\n",
    "io.imshow(im_bound_zoom)\n",
    "plugins.connect(fig, plugins.MousePosition(fontsize=14))\n",
    "mpld3.display()"
   ]
  },
  {
   "cell_type": "code",
   "execution_count": null,
   "metadata": {},
   "outputs": [],
   "source": [
    "# enter coordinates for the 3 points: \n",
    "midline_x_bound = \n",
    "midline_y_bound = \n",
    "intersect_x_bound = \n",
    "intersect_y_bound = \n",
    "endline_x_bound = \n",
    "endline_y_bound = \n",
    "\n",
    "thetaprime_bound = get_angle(midline_x_bound,midline_y_bound,intersect_x_bound,\n",
    "                             intersect_y_bound,endline_x_bound,endline_y_bound) # calculate the deformed angle\n",
    "\n",
    "gamma_bound = np.pi/2-thetaprime_bound  # calculate shear strain, gamma\n",
    "gamma_bound_deg = np.degrees(gamma_bound) # in degrees too for good measure\n",
    "\n",
    "print('Gamma = ' + str(np.round(gamma_bound,4))+ ' rad (' + str(np.round(gamma_bound_deg,4)) + ' deg) for the bound beam')"
   ]
  },
  {
   "cell_type": "markdown",
   "metadata": {},
   "source": [
    "Do the same thing for the unbound book (Part 2):"
   ]
  },
  {
   "cell_type": "code",
   "execution_count": null,
   "metadata": {},
   "outputs": [],
   "source": [
    "path_unbound_zoom = str(input(\"Paste or type your file path for the unbound beam (close-up end view): \"))\n",
    "im_unbound_zoom = io.imread(path_unbound_zoom)\n",
    "\n",
    "fig, ax = plt.subplots(figsize=(10,5))\n",
    "io.imshow(im_unbound_zoom)\n",
    "plugins.connect(fig, plugins.MousePosition(fontsize=14))\n",
    "mpld3.display()"
   ]
  },
  {
   "cell_type": "code",
   "execution_count": null,
   "metadata": {},
   "outputs": [],
   "source": [
    "# enter coordinates for the 3 points: \n",
    "midline_x_unbound = \n",
    "midline_y_unbound = \n",
    "intersect_x_unbound = \n",
    "intersect_y_unbound = \n",
    "endline_x_unbound = \n",
    "endline_y_unbound = \n",
    "\n",
    "thetaprime_unbound = get_angle(midline_x_unbound,midline_y_unbound,intersect_x_unbound,\n",
    "                             intersect_y_unbound,endline_x_unbound,endline_y_unbound) # calculate the deformed angle\n",
    "\n",
    "gamma_unbound = np.pi/2-thetaprime_unbound # calculate shear strain, gamma\n",
    "gamma_unbound_deg = np.degrees(gamma_unbound) # in degrees too for good measure\n",
    "\n",
    "print('Gamma = ' + str(np.round(gamma_unbound,4))+ ' rad (' + str(np.round(gamma_unbound_deg,4)) + ' deg) for the unbound beam')"
   ]
  },
  {
   "cell_type": "markdown",
   "metadata": {},
   "source": [
    "## Discussion of Shear Results \n",
    "\n",
    "<b>(1.) Assume $B_{effective}=EI$. What is the shear stress $\\tau$ that caused the amount of strain you observed in the unbound beam? You can use Poisson's ratio $\\nu \\approx 0.3$ in your calculation. </b>\n",
    "\n",
    "...enter your answer here...\n",
    "\n",
    "<b>(2.) You could argue that the unbound book does what the bound one \"wants\" to do. With this in mind, what do your previous answers tell you about the glue/staples/ whatever binds the bound edge of your book? </b>\n",
    "\n",
    "...enter your answer here...\n",
    "\n",
    "<b>(3.) Comment on your findings on shear strain as they relate to the deflection you observed in the previous section. Is the beam that deflected more the same as the one that underwent more shear strain? Why do you think this is, or is not, the case? </b>\n",
    "\n",
    "...enter your answer here..."
   ]
  },
  {
   "cell_type": "markdown",
   "metadata": {},
   "source": [
    "## Further (Optional) Reading \n",
    "\n",
    "[Timoshenko beam theory](https://en.wikipedia.org/wiki/Timoshenko-Ehrenfest_beam_theory) is a generalization of Euler-Bernoulli beam theory which can capture shear deformation. If the shear modulus approaches infinity, the Euler-Bernoulli beam is recovered.\n",
    "\n",
    "<div>\n",
    "<img src=\"https://upload.wikimedia.org/wikipedia/commons/5/57/TimoshenkoBeam.svg\" width=\"500\" />\n",
    "</div>\n",
    "\n",
    "Source: https://commons.wikimedia.org/wiki/File:TimoshenkoBeam.svg"
   ]
  },
  {
   "cell_type": "markdown",
   "metadata": {},
   "source": [
    "## Appendix A: Cantilever Solutions\n",
    "\n",
    "<a href=\"https://ibb.co/k0DcD2j\"><img src=\"https://i.ibb.co/RP6H6Tf/Hibbler-Appendix-C.jpg\" alt=\"Hibbler-Appendix-C\" border=\"0\"></a>\n",
    "\n",
    "Source: Hibbeler, R. & Yap, K. (2018). Mechanics of materials. Harlow, England: Pearson Education."
   ]
  }
 ],
 "metadata": {
  "kernelspec": {
   "display_name": "Python 3",
   "language": "python",
   "name": "python3"
  },
  "language_info": {
   "codemirror_mode": {
    "name": "ipython",
    "version": 3
   },
   "file_extension": ".py",
   "mimetype": "text/x-python",
   "name": "python",
   "nbconvert_exporter": "python",
   "pygments_lexer": "ipython3",
   "version": "3.8.3"
  }
 },
 "nbformat": 4,
 "nbformat_minor": 2
}
